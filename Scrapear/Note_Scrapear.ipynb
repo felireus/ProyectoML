{
 "cells": [
  {
   "cell_type": "code",
   "execution_count": 2,
   "metadata": {},
   "outputs": [
    {
     "name": "stdout",
     "output_type": "stream",
     "text": [
      "Collecting selenium\n",
      "  Obtaining dependency information for selenium from https://files.pythonhosted.org/packages/0e/59/aae37fa93e2d4292c3148efcc3066c8ecfe5cfaa72bf8c0b1a5614622cf7/selenium-4.15.2-py3-none-any.whl.metadata\n",
      "  Downloading selenium-4.15.2-py3-none-any.whl.metadata (6.9 kB)\n",
      "Requirement already satisfied: urllib3[socks]<3,>=1.26 in /Users/felipereus/anaconda3/envs/eda_env/lib/python3.9/site-packages (from selenium) (2.0.5)\n",
      "Collecting trio~=0.17 (from selenium)\n",
      "  Obtaining dependency information for trio~=0.17 from https://files.pythonhosted.org/packages/39/46/620fbe56f41fa3ccdda2136d947fb9bacce3d1eb163f057f0262a0ddf5e0/trio-0.23.1-py3-none-any.whl.metadata\n",
      "  Downloading trio-0.23.1-py3-none-any.whl.metadata (4.9 kB)\n",
      "Collecting trio-websocket~=0.9 (from selenium)\n",
      "  Obtaining dependency information for trio-websocket~=0.9 from https://files.pythonhosted.org/packages/48/be/a9ae5f50cad5b6f85bd2574c2c923730098530096e170c1ce7452394d7aa/trio_websocket-0.11.1-py3-none-any.whl.metadata\n",
      "  Using cached trio_websocket-0.11.1-py3-none-any.whl.metadata (4.7 kB)\n",
      "Requirement already satisfied: certifi>=2021.10.8 in /Users/felipereus/anaconda3/envs/eda_env/lib/python3.9/site-packages (from selenium) (2023.7.22)\n",
      "Requirement already satisfied: attrs>=20.1.0 in /Users/felipereus/anaconda3/envs/eda_env/lib/python3.9/site-packages (from trio~=0.17->selenium) (23.1.0)\n",
      "Collecting sortedcontainers (from trio~=0.17->selenium)\n",
      "  Using cached sortedcontainers-2.4.0-py2.py3-none-any.whl (29 kB)\n",
      "Requirement already satisfied: idna in /Users/felipereus/anaconda3/envs/eda_env/lib/python3.9/site-packages (from trio~=0.17->selenium) (3.4)\n",
      "Collecting outcome (from trio~=0.17->selenium)\n",
      "  Obtaining dependency information for outcome from https://files.pythonhosted.org/packages/55/8b/5ab7257531a5d830fc8000c476e63c935488d74609b50f9384a643ec0a62/outcome-1.3.0.post0-py2.py3-none-any.whl.metadata\n",
      "  Downloading outcome-1.3.0.post0-py2.py3-none-any.whl.metadata (2.6 kB)\n",
      "Requirement already satisfied: sniffio>=1.3.0 in /Users/felipereus/anaconda3/envs/eda_env/lib/python3.9/site-packages (from trio~=0.17->selenium) (1.3.0)\n",
      "Requirement already satisfied: exceptiongroup>=1.0.0rc9 in /Users/felipereus/anaconda3/envs/eda_env/lib/python3.9/site-packages (from trio~=0.17->selenium) (1.1.3)\n",
      "Collecting wsproto>=0.14 (from trio-websocket~=0.9->selenium)\n",
      "  Using cached wsproto-1.2.0-py3-none-any.whl (24 kB)\n",
      "Collecting pysocks!=1.5.7,<2.0,>=1.5.6 (from urllib3[socks]<3,>=1.26->selenium)\n",
      "  Using cached PySocks-1.7.1-py3-none-any.whl (16 kB)\n",
      "Collecting h11<1,>=0.9.0 (from wsproto>=0.14->trio-websocket~=0.9->selenium)\n",
      "  Using cached h11-0.14.0-py3-none-any.whl (58 kB)\n",
      "Downloading selenium-4.15.2-py3-none-any.whl (10.2 MB)\n",
      "\u001b[2K   \u001b[90m━━━━━━━━━━━━━━━━━━━━━━━━━━━━━━━━━━━━━━━━\u001b[0m \u001b[32m10.2/10.2 MB\u001b[0m \u001b[31m14.8 MB/s\u001b[0m eta \u001b[36m0:00:00\u001b[0m00:01\u001b[0m0:01\u001b[0m\n",
      "\u001b[?25hDownloading trio-0.23.1-py3-none-any.whl (448 kB)\n",
      "\u001b[2K   \u001b[90m━━━━━━━━━━━━━━━━━━━━━━━━━━━━━━━━━━━━━━━━\u001b[0m \u001b[32m448.3/448.3 kB\u001b[0m \u001b[31m18.1 MB/s\u001b[0m eta \u001b[36m0:00:00\u001b[0m\n",
      "\u001b[?25hUsing cached trio_websocket-0.11.1-py3-none-any.whl (17 kB)\n",
      "Downloading outcome-1.3.0.post0-py2.py3-none-any.whl (10 kB)\n",
      "Installing collected packages: sortedcontainers, pysocks, outcome, h11, wsproto, trio, trio-websocket, selenium\n",
      "Successfully installed h11-0.14.0 outcome-1.3.0.post0 pysocks-1.7.1 selenium-4.15.2 sortedcontainers-2.4.0 trio-0.23.1 trio-websocket-0.11.1 wsproto-1.2.0\n"
     ]
    }
   ],
   "source": [
    "!pip install selenium\n"
   ]
  },
  {
   "cell_type": "code",
   "execution_count": 3,
   "metadata": {},
   "outputs": [],
   "source": [
    "from bs4 import BeautifulSoup as bs\n",
    "import requests\n",
    "import re\n",
    "import pandas as pd\n",
    "from selenium import webdriver\n",
    "from selenium.webdriver.common.by import By\n",
    "from selenium.webdriver.common.keys import Keys\n",
    "from selenium.webdriver.support.ui import WebDriverWait\n",
    "from selenium.webdriver.support import expected_conditions as EC\n",
    "import time\n",
    "import os"
   ]
  },
  {
   "cell_type": "code",
   "execution_count": 7,
   "metadata": {},
   "outputs": [],
   "source": [
    "driver = webdriver.Chrome()\n",
    "url = \"https://www.shutterstock.com/es/search/tiger-shark\"\n",
    "driver.get(url)"
   ]
  },
  {
   "cell_type": "code",
   "execution_count": 8,
   "metadata": {},
   "outputs": [],
   "source": [
    "Cookies = driver.find_element(By.XPATH, \"/html/body/div[2]/div[2]/div/div/div[2]/div/div/button[2]\")\n",
    "Cookies.click()"
   ]
  },
  {
   "cell_type": "code",
   "execution_count": 9,
   "metadata": {},
   "outputs": [
    {
     "ename": "TimeoutException",
     "evalue": "Message: \n",
     "output_type": "error",
     "traceback": [
      "\u001b[1;31m---------------------------------------------------------------------------\u001b[0m",
      "\u001b[1;31mTimeoutException\u001b[0m                          Traceback (most recent call last)",
      "\u001b[1;32mc:\\Users\\funny\\Desktop\\Bootcamp\\mesa_trabajo_core\\repo_sept_23\\proyectos\\ML-2\\notebook.ipynb Cell 4\u001b[0m line \u001b[0;36m3\n\u001b[0;32m     <a href='vscode-notebook-cell:/c%3A/Users/funny/Desktop/Bootcamp/mesa_trabajo_core/repo_sept_23/proyectos/ML-2/notebook.ipynb#W3sZmlsZQ%3D%3D?line=29'>30</a>\u001b[0m descargar_imagenes(imagenes, directorio_destino)\n\u001b[0;32m     <a href='vscode-notebook-cell:/c%3A/Users/funny/Desktop/Bootcamp/mesa_trabajo_core/repo_sept_23/proyectos/ML-2/notebook.ipynb#W3sZmlsZQ%3D%3D?line=31'>32</a>\u001b[0m \u001b[39m# Clic en el botón de siguiente página usando JavaScript\u001b[39;00m\n\u001b[1;32m---> <a href='vscode-notebook-cell:/c%3A/Users/funny/Desktop/Bootcamp/mesa_trabajo_core/repo_sept_23/proyectos/ML-2/notebook.ipynb#W3sZmlsZQ%3D%3D?line=32'>33</a>\u001b[0m boton_siguiente \u001b[39m=\u001b[39m WebDriverWait(driver, \u001b[39m10\u001b[39;49m)\u001b[39m.\u001b[39;49muntil(\n\u001b[0;32m     <a href='vscode-notebook-cell:/c%3A/Users/funny/Desktop/Bootcamp/mesa_trabajo_core/repo_sept_23/proyectos/ML-2/notebook.ipynb#W3sZmlsZQ%3D%3D?line=33'>34</a>\u001b[0m     EC\u001b[39m.\u001b[39;49melement_to_be_clickable((By\u001b[39m.\u001b[39;49mXPATH, \u001b[39m\"\u001b[39;49m\u001b[39m//a[contains(@href, \u001b[39;49m\u001b[39m'\u001b[39;49m\u001b[39m/es/search/\u001b[39;49m\u001b[39m'\u001b[39;49m\u001b[39m) and contains(@href, \u001b[39;49m\u001b[39m'\u001b[39;49m\u001b[39mpage=2\u001b[39;49m\u001b[39m'\u001b[39;49m\u001b[39m)]\u001b[39;49m\u001b[39m\"\u001b[39;49m))\n\u001b[0;32m     <a href='vscode-notebook-cell:/c%3A/Users/funny/Desktop/Bootcamp/mesa_trabajo_core/repo_sept_23/proyectos/ML-2/notebook.ipynb#W3sZmlsZQ%3D%3D?line=34'>35</a>\u001b[0m )\n\u001b[0;32m     <a href='vscode-notebook-cell:/c%3A/Users/funny/Desktop/Bootcamp/mesa_trabajo_core/repo_sept_23/proyectos/ML-2/notebook.ipynb#W3sZmlsZQ%3D%3D?line=35'>36</a>\u001b[0m driver\u001b[39m.\u001b[39mexecute_script(\u001b[39m\"\u001b[39m\u001b[39marguments[0].click();\u001b[39m\u001b[39m\"\u001b[39m, boton_siguiente)\n\u001b[0;32m     <a href='vscode-notebook-cell:/c%3A/Users/funny/Desktop/Bootcamp/mesa_trabajo_core/repo_sept_23/proyectos/ML-2/notebook.ipynb#W3sZmlsZQ%3D%3D?line=37'>38</a>\u001b[0m \u001b[39m# Esperar a que la página cargue (ajusta el tiempo de espera según sea necesario)\u001b[39;00m\n",
      "File \u001b[1;32mc:\\Users\\funny\\anaconda3\\envs\\scraping_env\\lib\\site-packages\\selenium\\webdriver\\support\\wait.py:95\u001b[0m, in \u001b[0;36mWebDriverWait.until\u001b[1;34m(self, method, message)\u001b[0m\n\u001b[0;32m     93\u001b[0m     \u001b[39mif\u001b[39;00m time\u001b[39m.\u001b[39mmonotonic() \u001b[39m>\u001b[39m end_time:\n\u001b[0;32m     94\u001b[0m         \u001b[39mbreak\u001b[39;00m\n\u001b[1;32m---> 95\u001b[0m \u001b[39mraise\u001b[39;00m TimeoutException(message, screen, stacktrace)\n",
      "\u001b[1;31mTimeoutException\u001b[0m: Message: \n"
     ]
    }
   ],
   "source": [
    "# Función para descargar imágenes\n",
    "def descargar_imagenes(imagenes, directorio):\n",
    "    for j, imagen in enumerate(imagenes):\n",
    "        src = imagen.get_attribute('src')\n",
    "        if src and src not in imagenes_descargadas:\n",
    "            imagenes_descargadas.add(src)\n",
    "            response = requests.get(src)\n",
    "            with open(os.path.join(directorio, f'imagen_{i+1}_{j+1}.jpg'), 'wb') as file:\n",
    "                file.write(response.content)\n",
    "\n",
    "# Crear un directorio para almacenar las imágenes\n",
    "directorio_destino = 'imagenes_descargadas'\n",
    "os.makedirs(directorio_destino, exist_ok=True)\n",
    "\n",
    "# Variable para rastrear las imágenes descargadas\n",
    "imagenes_descargadas = set()\n",
    "\n",
    "# Realizar un bucle para simular el scroll y recoger las imágenes\n",
    "for i in range(10):  # Cambia el número de iteraciones según sea necesario\n",
    "    # Scroll hacia abajo\n",
    "    driver.execute_script(\"window.scrollTo(0, document.body.scrollHeight);\")\n",
    "    \n",
    "    # Esperar a que la página cargue las nuevas imágenes\n",
    "    time.sleep(2)  # Ajusta el tiempo de espera según sea necesario\n",
    "\n",
    "    # Obtener todas las imágenes en la página\n",
    "    imagenes = driver.find_elements(By.TAG_NAME, 'img')\n",
    "\n",
    "    # Descargar cada imagen nueva\n",
    "    descargar_imagenes(imagenes, directorio_destino)\n",
    "\n",
    "    # Clic en el botón de siguiente página usando JavaScript\n",
    "    boton_siguiente = WebDriverWait(driver, 10).until(\n",
    "        EC.element_to_be_clickable((By.XPATH, \"//a[contains(@href, '/es/search/') and contains(@href, 'page=2')]\"))\n",
    "    )\n",
    "    driver.execute_script(\"arguments[0].click();\", boton_siguiente)\n",
    "\n",
    "    # Esperar a que la página cargue (ajusta el tiempo de espera según sea necesario)\n",
    "    time.sleep(2)\n",
    "\n",
    "# Cerrar el navegador\n",
    "driver.quit()\n"
   ]
  }
 ],
 "metadata": {
  "kernelspec": {
   "display_name": "scraping_env",
   "language": "python",
   "name": "python3"
  },
  "language_info": {
   "codemirror_mode": {
    "name": "ipython",
    "version": 3
   },
   "file_extension": ".py",
   "mimetype": "text/x-python",
   "name": "python",
   "nbconvert_exporter": "python",
   "pygments_lexer": "ipython3",
   "version": "3.9.18"
  }
 },
 "nbformat": 4,
 "nbformat_minor": 2
}

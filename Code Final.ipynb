{
 "cells": [
  {
   "cell_type": "code",
   "execution_count": 99,
   "metadata": {},
   "outputs": [],
   "source": [
    "import os\n",
    "import numpy as np\n",
    "from tensorflow.keras.preprocessing.image import ImageDataGenerator\n",
    "from tensorflow.keras.applications.vgg16 import preprocess_input\n",
    "from tensorflow.keras.models import Sequential\n",
    "from tensorflow.keras.layers import Dense, Flatten\n",
    "from tensorflow.keras.applications import VGG16\n",
    "from keras.preprocessing import image\n",
    "from tensorflow.keras.layers import BatchNormalization\n",
    "from tensorflow.keras.layers import Conv2D\n",
    "from tensorflow.keras.layers import Conv2DTranspose\n",
    "from tensorflow.keras.layers import LeakyReLU\n",
    "from tensorflow.keras.layers import Activation\n",
    "from tensorflow.keras.layers import Flatten\n",
    "from tensorflow.keras.layers import Dense\n",
    "from tensorflow.keras.layers import Reshape\n",
    "from tensorflow.keras.layers import Input\n",
    "from tensorflow.keras.models import Model\n",
    "from tensorflow.keras import backend as K\n",
    "from tensorflow.keras.optimizers import Adam\n",
    "from tensorflow.keras.datasets import mnist\n",
    "from tensorflow.keras.models import load_model\n",
    "from sklearn.model_selection import train_test_split\n",
    "import matplotlib.pyplot as plt\n",
    "import numpy as np\n",
    "import random\n",
    "import cv2\n",
    "import tensorflow as tf"
   ]
  },
  {
   "cell_type": "code",
   "execution_count": 151,
   "metadata": {},
   "outputs": [
    {
     "name": "stdout",
     "output_type": "stream",
     "text": [
      "Found 4162 images belonging to 4 classes.\n",
      "Found 1039 images belonging to 4 classes.\n",
      "Epoch 1/20\n",
      "65/65 [==============================] - 17s 256ms/step - loss: 1.5084 - accuracy: 0.6591 - val_loss: 0.6677 - val_accuracy: 0.7832\n",
      "Epoch 2/20\n",
      "65/65 [==============================] - 15s 235ms/step - loss: 0.5261 - accuracy: 0.8719 - val_loss: 0.3975 - val_accuracy: 0.9971\n",
      "Epoch 3/20\n",
      "65/65 [==============================] - 15s 231ms/step - loss: 0.3956 - accuracy: 0.9175 - val_loss: 0.3099 - val_accuracy: 0.9961\n",
      "Epoch 4/20\n",
      "65/65 [==============================] - 16s 239ms/step - loss: 0.3475 - accuracy: 0.9265 - val_loss: 0.2490 - val_accuracy: 0.9756\n",
      "Epoch 5/20\n",
      "65/65 [==============================] - 15s 228ms/step - loss: 0.2889 - accuracy: 0.9388 - val_loss: 0.2965 - val_accuracy: 0.9561\n",
      "Epoch 6/20\n",
      "65/65 [==============================] - 15s 229ms/step - loss: 0.2579 - accuracy: 0.9490 - val_loss: 0.1752 - val_accuracy: 0.9971\n",
      "Epoch 7/20\n",
      "65/65 [==============================] - 15s 228ms/step - loss: 0.2295 - accuracy: 0.9558 - val_loss: 0.1547 - val_accuracy: 0.9980\n",
      "Epoch 8/20\n",
      "65/65 [==============================] - 15s 233ms/step - loss: 0.1953 - accuracy: 0.9668 - val_loss: 0.1395 - val_accuracy: 0.9971\n",
      "Epoch 9/20\n",
      "65/65 [==============================] - 15s 227ms/step - loss: 0.1777 - accuracy: 0.9707 - val_loss: 0.1340 - val_accuracy: 0.9961\n",
      "Epoch 10/20\n",
      "65/65 [==============================] - 15s 237ms/step - loss: 0.1772 - accuracy: 0.9693 - val_loss: 0.1333 - val_accuracy: 0.9971\n",
      "Epoch 11/20\n",
      "65/65 [==============================] - 16s 250ms/step - loss: 0.1635 - accuracy: 0.9739 - val_loss: 0.1147 - val_accuracy: 0.9971\n",
      "Epoch 12/20\n",
      "65/65 [==============================] - 16s 249ms/step - loss: 0.1497 - accuracy: 0.9780 - val_loss: 0.1109 - val_accuracy: 0.9971\n",
      "Epoch 13/20\n",
      "65/65 [==============================] - 16s 253ms/step - loss: 0.1497 - accuracy: 0.9776 - val_loss: 0.1004 - val_accuracy: 0.9980\n",
      "Epoch 14/20\n",
      "65/65 [==============================] - 16s 243ms/step - loss: 0.1308 - accuracy: 0.9822 - val_loss: 0.1045 - val_accuracy: 0.9971\n",
      "Epoch 15/20\n",
      "65/65 [==============================] - 16s 240ms/step - loss: 0.1397 - accuracy: 0.9788 - val_loss: 0.1072 - val_accuracy: 0.9971\n",
      "Epoch 16/20\n",
      "65/65 [==============================] - 15s 234ms/step - loss: 0.1405 - accuracy: 0.9780 - val_loss: 0.1478 - val_accuracy: 0.9492\n",
      "Epoch 17/20\n",
      "65/65 [==============================] - 16s 247ms/step - loss: 0.1328 - accuracy: 0.9802 - val_loss: 0.0986 - val_accuracy: 0.9971\n",
      "Epoch 18/20\n",
      "65/65 [==============================] - 17s 258ms/step - loss: 0.1375 - accuracy: 0.9780 - val_loss: 0.1205 - val_accuracy: 0.9971\n",
      "Epoch 19/20\n",
      "65/65 [==============================] - 17s 259ms/step - loss: 0.1501 - accuracy: 0.9766 - val_loss: 0.1031 - val_accuracy: 0.9971\n",
      "Epoch 20/20\n",
      "65/65 [==============================] - 16s 246ms/step - loss: 0.1295 - accuracy: 0.9805 - val_loss: 0.0880 - val_accuracy: 0.9971\n"
     ]
    }
   ],
   "source": [
    "# Importaciones necesarias\n",
    "import tensorflow as tf\n",
    "from tensorflow.keras.layers import Dense, Conv2D, MaxPooling2D, Flatten, Dropout\n",
    "from tensorflow.keras.models import Sequential\n",
    "from tensorflow.keras.regularizers import l2\n",
    "from keras.preprocessing.image import ImageDataGenerator\n",
    "\n",
    "# creo la variable TRAIN_PATH con la ruta del directorio que contiene los datos de entrenamiento\n",
    "TRAIN_PATH = '../Proyecto Mlearning/DataSet/Training'\n",
    "\n",
    "# ImageDataGenerator con los parámetros de data augmentation para el entrenamiento\n",
    "train_datagen = ImageDataGenerator(\n",
    "    rescale=1./255.,\n",
    "    rotation_range=40,\n",
    "    width_shift_range=0.2,\n",
    "    height_shift_range=0.2,\n",
    "    shear_range=0.2,\n",
    "    zoom_range=0.2,\n",
    "    horizontal_flip=True,\n",
    "    validation_split=0.2  # porcentaje para validación ----> dejo el 20%\n",
    ")\n",
    "\n",
    "# Crear un ImageDataGenerator para la validación\n",
    "validation_datagen = ImageDataGenerator(\n",
    "    rescale=1.0/255.,\n",
    "    validation_split=0.2  # Especificar el mismo porcentaje que para el entrenamiento\n",
    ")\n",
    "\n",
    "# generador de datos de entrenamiento\n",
    "train_generator = train_datagen.flow_from_directory(\n",
    "    TRAIN_PATH,\n",
    "    target_size=(100, 100),\n",
    "    batch_size=64,\n",
    "    class_mode='categorical',\n",
    "    subset='training', \n",
    "    seed=123\n",
    ")\n",
    "\n",
    "# Crear el generador de datos de validación\n",
    "validation_generator = validation_datagen.flow_from_directory(\n",
    "    TRAIN_PATH,\n",
    "    target_size=(100, 100),\n",
    "    batch_size=64,\n",
    "    class_mode='categorical',\n",
    "    subset='validation',  # Especificar el subset de validación\n",
    "    seed=123\n",
    ")\n",
    "\n",
    "# Construcción del modelo \n",
    "model = Sequential([\n",
    "    Conv2D(32, (3, 3), activation='relu', input_shape=(100, 100, 3)),\n",
    "    MaxPooling2D((2, 2)),\n",
    "    # no agregar mas capas convolucionales y de pooling //  solo si es necesario --> modelo mas bueno\n",
    "    Flatten(),\n",
    "    Dense(128, activation='relu', kernel_regularizer=l2(0.001)),  # Regularización L2\n",
    "    Dropout(0.5),  # Capa de Dropout\n",
    "    Dense(4, activation='softmax')\n",
    "])\n",
    "\n",
    "# Compilación del modelo\n",
    "model.compile(\n",
    "    optimizer='adam',\n",
    "    loss='categorical_crossentropy',\n",
    "    metrics=['accuracy']\n",
    ")\n",
    "\n",
    "# Entrenamiento del modelo\n",
    "history = model.fit(\n",
    "    train_generator,\n",
    "    validation_data=validation_generator,\n",
    "    epochs=20,\n",
    "    steps_per_epoch=train_generator.n // train_generator.batch_size,\n",
    "    validation_steps=validation_generator.n // validation_generator.batch_size\n",
    ")\n",
    "\n"
   ]
  },
  {
   "cell_type": "code",
   "execution_count": 152,
   "metadata": {},
   "outputs": [
    {
     "name": "stdout",
     "output_type": "stream",
     "text": [
      "Model: \"sequential_11\"\n",
      "_________________________________________________________________\n",
      " Layer (type)                Output Shape              Param #   \n",
      "=================================================================\n",
      " conv2d_11 (Conv2D)          (None, 98, 98, 32)        896       \n",
      "                                                                 \n",
      " max_pooling2d_11 (MaxPooli  (None, 49, 49, 32)        0         \n",
      " ng2D)                                                           \n",
      "                                                                 \n",
      " flatten_11 (Flatten)        (None, 76832)             0         \n",
      "                                                                 \n",
      " dense_22 (Dense)            (None, 128)               9834624   \n",
      "                                                                 \n",
      " dropout_11 (Dropout)        (None, 128)               0         \n",
      "                                                                 \n",
      " dense_23 (Dense)            (None, 4)                 516       \n",
      "                                                                 \n",
      "=================================================================\n",
      "Total params: 9836036 (37.52 MB)\n",
      "Trainable params: 9836036 (37.52 MB)\n",
      "Non-trainable params: 0 (0.00 Byte)\n",
      "_________________________________________________________________\n"
     ]
    }
   ],
   "source": [
    "model.summary()"
   ]
  },
  {
   "cell_type": "code",
   "execution_count": 153,
   "metadata": {},
   "outputs": [
    {
     "data": {
      "image/png": "[encoded data removed]",
      "text/plain": [
       "<Figure size 640x480 with 1 Axes>"
      ]
     },
     "metadata": {},
     "output_type": "display_data"
    }
   ],
   "source": [
    "# graficar modelo\n",
    "plt.plot(history.history['loss'], label='train')\n",
    "plt.plot(history.history['val_loss'], label='validation')\n",
    "plt.legend()\n",
    "plt.show()"
   ]
  },
  {
   "cell_type": "code",
   "execution_count": 158,
   "metadata": {},
   "outputs": [
    {
     "name": "stdout",
     "output_type": "stream",
     "text": [
      "1/1 [==============================] - 0s 32ms/step\n",
      "Clase predicha: naranjas con confianza: 97.29%\n"
     ]
    }
   ],
   "source": [
    "from tensorflow.keras.preprocessing import image\n",
    "import numpy as np\n",
    "\n",
    "# Cargar la imagen de prueba\n",
    "img_path = 'DataSet/TetsY/naranja.jpg'  # Reemplaza con la ruta de tu imagen de prueba\n",
    "img = image.load_img(img_path, target_size=(100, 100))\n",
    "img_array = image.img_to_array(img)\n",
    "img_array = np.expand_dims(img_array, axis=0)\n",
    "img_array /= 255.0  # Normalizar los valores de píxeles al rango [0, 1]\n",
    "\n",
    "# Realizar la predicción\n",
    "predictions = model.predict(img_array)\n",
    "\n",
    "# Obtener la clase predicha\n",
    "predicted_class = np.argmax(predictions)\n",
    "\n",
    "confidence = predictions[0, predicted_class]\n",
    "\n",
    "# Definir un umbral de confianza\n",
    "umbral_confianza = 0.74\n",
    "\n",
    "# Verificar si la confianza supera el umbral\n",
    "if confidence >= umbral_confianza:\n",
    "    # Imprimir el resultado si la confianza es suficiente\n",
    "    classes = ['limones', 'mandarinas', 'pomelos', 'naranjas']\n",
    "    print(f\"Clase predicha: {classes[predicted_class]} con confianza: {confidence:.2%}\")\n",
    "else:\n",
    "    # Imprimir un mensaje si la confianza es insuficiente\n",
    "    print(\"No estoy seguro de qué clase es esta imagen.\")"
   ]
  },
  {
   "cell_type": "code",
   "execution_count": 142,
   "metadata": {},
   "outputs": [
    {
     "data": {
      "text/plain": [
       "array([[1.4290241e-04, 3.2309623e-04, 9.9953389e-01, 1.6795829e-07]],\n",
       "      dtype=float32)"
      ]
     },
     "execution_count": 142,
     "metadata": {},
     "output_type": "execute_result"
    }
   ],
   "source": [
    "predictions\n",
    "\n"
   ]
  },
  {
   "cell_type": "code",
   "execution_count": 150,
   "metadata": {},
   "outputs": [
    {
     "name": "stdout",
     "output_type": "stream",
     "text": [
      "Precisión en entrenamiento por época:\n",
      "Época 1: 0.6640663146972656\n",
      "Época 2: 0.8105801939964294\n",
      "Época 3: 0.861774742603302\n",
      "Época 4: 0.8871282339096069\n",
      "Época 5: 0.8966357707977295\n",
      "Época 6: 0.8951730728149414\n",
      "Época 7: 0.9019989967346191\n",
      "Época 8: 0.9132130742073059\n",
      "Época 9: 0.9229643940925598\n",
      "Época 10: 0.919551432132721\n",
      "Época 11: 0.9278846383094788\n",
      "Época 12: 0.9293027520179749\n",
      "Época 13: 0.9305216670036316\n",
      "Época 14: 0.935153603553772\n",
      "Época 15: 0.9275962710380554\n",
      "\n",
      "Precisión en validación por época:\n",
      "Época 1: 0.650390625\n",
      "Época 2: 0.8056640625\n",
      "Época 3: 0.998046875\n",
      "Época 4: 0.99609375\n",
      "Época 5: 0.998046875\n",
      "Época 6: 0.998046875\n",
      "Época 7: 0.998046875\n",
      "Época 8: 0.99609375\n",
      "Época 9: 0.998046875\n",
      "Época 10: 0.99609375\n",
      "Época 11: 0.98046875\n",
      "Época 12: 0.9970703125\n",
      "Época 13: 0.9892578125\n",
      "Época 14: 0.9970703125\n",
      "Época 15: 0.9970703125\n"
     ]
    }
   ],
   "source": [
    "# Accedes a los datos de precisión\n",
    "train_accuracy = history.history['accuracy']\n",
    "validation_accuracy = history.history['val_accuracy']\n",
    "\n",
    "# Imprimes la precisión para cada época\n",
    "print(\"Precisión en entrenamiento por época:\")\n",
    "for i, acc in enumerate(train_accuracy):\n",
    "    print(f\"Época {i+1}: {acc}\")\n",
    "\n",
    "print(\"\\nPrecisión en validación por época:\")\n",
    "for i, acc in enumerate(validation_accuracy):\n",
    "    print(f\"Época {i+1}: {acc}\")"
   ]
  }
 ],
 "metadata": {
  "kernelspec": {
   "display_name": "eda_env",
   "language": "python",
   "name": "python3"
  },
  "language_info": {
   "codemirror_mode": {
    "name": "ipython",
    "version": 3
   },
   "file_extension": ".py",
   "mimetype": "text/x-python",
   "name": "python",
   "nbconvert_exporter": "python",
   "pygments_lexer": "ipython3",
   "version": "3.9.18"
  }
 },
 "nbformat": 4,
 "nbformat_minor": 2
}
